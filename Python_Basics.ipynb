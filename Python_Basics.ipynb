{
  "nbformat": 4,
  "nbformat_minor": 0,
  "metadata": {
    "colab": {
      "provenance": []
    },
    "kernelspec": {
      "name": "python3",
      "display_name": "Python 3"
    },
    "language_info": {
      "name": "python"
    }
  },
  "cells": [
    {
      "cell_type": "markdown",
      "source": [
        "1. What is Python, and why is it popular?\n",
        "\n",
        "Answer: Python is a high-level, interpreted programming language known for its readability and versatility, making it popular for web development, data science, AI, and automation due to its large community and extensive libraries.\n",
        "\n",
        "2. What is an interpreter in Python?\n",
        "\n",
        "Answer: An interpreter is a program that directly executes code line by line, translating it into machine code during runtime.\n",
        "\n",
        "3. What are pre-defined keywords in Python?\n",
        "\n",
        "Answer: Pre-defined keywords are reserved words in Python that have special meanings and cannot be used as identifiers like variable names.\n",
        "\n",
        "4. Can keywords be used as variable names?\n",
        "\n",
        "Answer: No, keywords cannot be used as variable names because they have pre-defined meanings in Python.\n",
        "\n",
        "5. What is mutability in Python?\n",
        "\n",
        "Answer: Mutability refers to whether an object's state can be changed after it is created. Mutable objects can be modified, while immutable objects cannot.\n",
        "\n",
        "6. Why are lists mutable, but tuples are immutable?\n",
        "\n",
        "Answer: Lists are designed to be dynamic collections where elements can be added, removed, or changed. Tuples are designed to be fixed, ordered collections, ensuring their elements cannot be altered after creation.\n",
        "\n",
        "7. What is the difference between “==” and “is” operators in Python?\n",
        "\n",
        "Answer: The == operator checks if the values of two objects are equal, while the `is` operator checks if two variables refer to the exact same object in memory.\n",
        "\n",
        "8. What are logical operators in Python?\n",
        "\n",
        "Answer: Logical operators (and, or, not) are used to combine or modify boolean expressions.\n",
        "\n",
        "9. What is type casting in Python?\n",
        "\n",
        "Answer: Type casting (or type conversion) is the process of converting a value from one data type to another.\n",
        "\n",
        "10. What is the difference between implicit and explicit type casting?\n",
        "\n",
        "Answer: Implicit type casting (coercion) is done automatically by Python during operations, while explicit type casting is done manually by the programmer using built-in functions like int(), float(), etc.\n",
        "\n",
        "11. What is the purpose of conditional statements in Python?\n",
        "\n",
        "Answer: Conditional statements (if, elif, else) allow the program to make decisions and execute different blocks of code based on whether certain conditions are true or false.\n",
        "\n",
        "12. How does the elif statement work?\n",
        "\n",
        "Answer: The elif statement allows you to check multiple conditions sequentially after an initial if statement. It executes its code block if its condition is True and the preceding if and elif conditions were False.\n",
        "\n",
        "13. What is the difference between for and while loops?\n",
        "\n",
        "Answer: for loops are used for iterating over a sequence or a known range of times, while while loops continue as long as a specified condition is true.\n",
        "\n",
        "14. Describe a scenario where a while loop is more suitable than a for loop.\n",
        "\n",
        "Answer: A while loop is more suitable than a for loop when the number of iterations is unknown and the loop needs to continue until a specific condition is met, such as reading from a file until a certain marker is found.\n"
      ],
      "metadata": {
        "id": "y_c3ZyBbru8F"
      }
    },
    {
      "cell_type": "code",
      "source": [
        "# 1. Write a Python program to print \"Hello, World!\"\n",
        "print(\"Hello, World!\")"
      ],
      "metadata": {
        "colab": {
          "base_uri": "https://localhost:8080/"
        },
        "id": "oNe7zQP7mQrS",
        "outputId": "2b5068d5-5207-479f-e613-a48cb30a54db"
      },
      "execution_count": 1,
      "outputs": [
        {
          "output_type": "stream",
          "name": "stdout",
          "text": [
            "Hello, World!\n"
          ]
        }
      ]
    },
    {
      "cell_type": "code",
      "source": [
        "# 2. Write a Python program that displays your name and age\n",
        "name = input(\"Enter your name: \")\n",
        "age = input(\"Enter your age: \")\n",
        "print(f\"My name is {name} and my age is {age}\")"
      ],
      "metadata": {
        "colab": {
          "base_uri": "https://localhost:8080/"
        },
        "id": "a5pTQqoIZnxN",
        "outputId": "adfb9756-facc-48ee-df36-d132eba2d8b4"
      },
      "execution_count": 3,
      "outputs": [
        {
          "output_type": "stream",
          "name": "stdout",
          "text": [
            "Enter your name: Shrey\n",
            "Enter your age: 24\n",
            "My name is Shrey and my age is 24\n"
          ]
        }
      ]
    },
    {
      "cell_type": "code",
      "source": [
        "# 3. Write code to print all the pre-defined keywords in Python using the keyword library\n",
        "help('keywords')"
      ],
      "metadata": {
        "colab": {
          "base_uri": "https://localhost:8080/"
        },
        "id": "OtJrlWguaNo_",
        "outputId": "dda904e2-532d-4ded-a9b9-e75153b4d776"
      },
      "execution_count": 4,
      "outputs": [
        {
          "output_type": "stream",
          "name": "stdout",
          "text": [
            "\n",
            "Here is a list of the Python keywords.  Enter any keyword to get more help.\n",
            "\n",
            "False               class               from                or\n",
            "None                continue            global              pass\n",
            "True                def                 if                  raise\n",
            "and                 del                 import              return\n",
            "as                  elif                in                  try\n",
            "assert              else                is                  while\n",
            "async               except              lambda              with\n",
            "await               finally             nonlocal            yield\n",
            "break               for                 not                 \n",
            "\n"
          ]
        }
      ]
    },
    {
      "cell_type": "code",
      "source": [
        "# 4. Write a program that checks if a given word is a Python keyword.\n",
        "import keyword\n",
        "word = input(\"Enter a word: \")\n",
        "if keyword.iskeyword(word):\n",
        "    print(f\"{word} is a Python keyword\")\n",
        "else:\n",
        "    print(f\"{word} is not a Python keyword\")"
      ],
      "metadata": {
        "colab": {
          "base_uri": "https://localhost:8080/"
        },
        "id": "6nZYng_4a8Ko",
        "outputId": "d788181b-0617-4dba-9650-bd6be6fbea9a"
      },
      "execution_count": 5,
      "outputs": [
        {
          "output_type": "stream",
          "name": "stdout",
          "text": [
            "Enter a word: True\n",
            "True is a Python keyword\n"
          ]
        }
      ]
    },
    {
      "cell_type": "code",
      "source": [
        "# 5. Create a list and tuple in Python, and demonstrate how attempting to change an element works differently for each.\n",
        "list1 = [1, 2, 3, 4, 5]\n",
        "tuple1 = (1, 2, 3, 4, 5)\n",
        "list1[0] = 10\n",
        "print(list1)\n",
        "tuple1[0] = 10\n",
        "print(tuple1)"
      ],
      "metadata": {
        "colab": {
          "base_uri": "https://localhost:8080/",
          "height": 228
        },
        "id": "leooAvx4bhMX",
        "outputId": "17bc34b5-c6f7-4910-e341-ce3dbcfb9db4"
      },
      "execution_count": 6,
      "outputs": [
        {
          "output_type": "stream",
          "name": "stdout",
          "text": [
            "[10, 2, 3, 4, 5]\n"
          ]
        },
        {
          "output_type": "error",
          "ename": "TypeError",
          "evalue": "'tuple' object does not support item assignment",
          "traceback": [
            "\u001b[0;31m---------------------------------------------------------------------------\u001b[0m",
            "\u001b[0;31mTypeError\u001b[0m                                 Traceback (most recent call last)",
            "\u001b[0;32m/tmp/ipython-input-2721168364.py\u001b[0m in \u001b[0;36m<cell line: 0>\u001b[0;34m()\u001b[0m\n\u001b[1;32m      4\u001b[0m \u001b[0mlist1\u001b[0m\u001b[0;34m[\u001b[0m\u001b[0;36m0\u001b[0m\u001b[0;34m]\u001b[0m \u001b[0;34m=\u001b[0m \u001b[0;36m10\u001b[0m\u001b[0;34m\u001b[0m\u001b[0;34m\u001b[0m\u001b[0m\n\u001b[1;32m      5\u001b[0m \u001b[0mprint\u001b[0m\u001b[0;34m(\u001b[0m\u001b[0mlist1\u001b[0m\u001b[0;34m)\u001b[0m\u001b[0;34m\u001b[0m\u001b[0;34m\u001b[0m\u001b[0m\n\u001b[0;32m----> 6\u001b[0;31m \u001b[0mtuple1\u001b[0m\u001b[0;34m[\u001b[0m\u001b[0;36m0\u001b[0m\u001b[0;34m]\u001b[0m \u001b[0;34m=\u001b[0m \u001b[0;36m10\u001b[0m\u001b[0;34m\u001b[0m\u001b[0;34m\u001b[0m\u001b[0m\n\u001b[0m\u001b[1;32m      7\u001b[0m \u001b[0mprint\u001b[0m\u001b[0;34m(\u001b[0m\u001b[0mtuple1\u001b[0m\u001b[0;34m)\u001b[0m\u001b[0;34m\u001b[0m\u001b[0;34m\u001b[0m\u001b[0m\n\u001b[1;32m      8\u001b[0m \u001b[0;34m\u001b[0m\u001b[0m\n",
            "\u001b[0;31mTypeError\u001b[0m: 'tuple' object does not support item assignment"
          ]
        }
      ]
    },
    {
      "cell_type": "code",
      "source": [
        "# 6. Write a function to demonstrate the behavior of mutable and immutable arguments.\n",
        "def modify_values(num, num_list):\n",
        "    num += 10\n",
        "    num_list.append(99)\n",
        "\n",
        "    print(\"Inside function:\")\n",
        "    print(\"num:\", num)\n",
        "    print(\"num_list:\", num_list)\n",
        "\n",
        "x = 5\n",
        "\n",
        "my_list = [1, 2, 3]\n",
        "\n",
        "print(\"Before function call:\")\n",
        "print(\"x:\", x)\n",
        "print(\"my_list:\", my_list)\n",
        "\n",
        "modify_values(x, my_list)\n",
        "\n",
        "print(\"\\nAfter function call:\")\n",
        "print(\"x:\", x)\n",
        "print(\"my_list:\", my_list)\n",
        "\n"
      ],
      "metadata": {
        "colab": {
          "base_uri": "https://localhost:8080/"
        },
        "id": "w23wYRcWcprB",
        "outputId": "6576d859-8769-485d-b413-be7124063266"
      },
      "execution_count": 8,
      "outputs": [
        {
          "output_type": "stream",
          "name": "stdout",
          "text": [
            "Before function call:\n",
            "x: 5\n",
            "my_list: [1, 2, 3]\n",
            "Inside function:\n",
            "num: 15\n",
            "num_list: [1, 2, 3, 99]\n",
            "\n",
            "After function call:\n",
            "x: 5\n",
            "my_list: [1, 2, 3, 99]\n"
          ]
        }
      ]
    },
    {
      "cell_type": "code",
      "source": [
        "# 7. Write a program that performs basic arithmetic operations on two user-input numbers.\n",
        "\n",
        "num1 = float(input(\"Enter first number: \"))\n",
        "num2 = float(input(\"Enter second number: \"))\n",
        "\n",
        "\n",
        "addition = num1 + num2\n",
        "subtraction = num1 - num2\n",
        "multiplication = num1 * num2\n",
        "\n",
        "if num2 != 0:\n",
        "    division = num1 / num2\n",
        "else:\n",
        "    division = \"Undefined (division by zero)\"\n",
        "\n",
        "print(\"\\nResults:\")\n",
        "print(f\"{num1} + {num2} = {addition}\")\n",
        "print(f\"{num1} - {num2} = {subtraction}\")\n",
        "print(f\"{num1} * {num2} = {multiplication}\")\n",
        "print(f\"{num1} / {num2} = {division}\")"
      ],
      "metadata": {
        "colab": {
          "base_uri": "https://localhost:8080/"
        },
        "id": "SdBM5wdcqxVD",
        "outputId": "7e1cdccd-5822-4d0b-82b2-c4e25df50bc5"
      },
      "execution_count": 9,
      "outputs": [
        {
          "output_type": "stream",
          "name": "stdout",
          "text": [
            "Enter first number: 1\n",
            "Enter second number: 3\n",
            "\n",
            "Results:\n",
            "1.0 + 3.0 = 4.0\n",
            "1.0 - 3.0 = -2.0\n",
            "1.0 * 3.0 = 3.0\n",
            "1.0 / 3.0 = 0.3333333333333333\n"
          ]
        }
      ]
    },
    {
      "cell_type": "code",
      "source": [
        "# 8. Write a program to demonstrate the use of logical operators.\n",
        "\n",
        "a = True\n",
        "b = False\n",
        "\n",
        "print(\"Logical AND:\")\n",
        "print(f\"{a} and {b} is {a and b}\")\n",
        "\n",
        "print(\"\\nLogical OR:\")\n",
        "print(f\"{a} or {b} is {a or b}\")\n",
        "\n",
        "print(\"\\nLogical NOT:\")\n",
        "print(f\"not {a} is {not a}\")"
      ],
      "metadata": {
        "colab": {
          "base_uri": "https://localhost:8080/"
        },
        "id": "XnFdPNgbtI8m",
        "outputId": "7c41a8f3-a92b-4327-f8f6-ef160bde4897"
      },
      "execution_count": 10,
      "outputs": [
        {
          "output_type": "stream",
          "name": "stdout",
          "text": [
            "Logical AND:\n",
            "True and False is False\n",
            "\n",
            "Logical OR:\n",
            "True or False is True\n",
            "\n",
            "Logical NOT:\n",
            "not True is False\n"
          ]
        }
      ]
    },
    {
      "cell_type": "code",
      "metadata": {
        "colab": {
          "base_uri": "https://localhost:8080/"
        },
        "id": "93c66304",
        "outputId": "e69465c3-78dd-4f4c-96d8-1010dbe4aeda"
      },
      "source": [
        "# 9. Write a Python program to convert user input from string to integer, float, and boolean types.\n",
        "\n",
        "user_input_str = input(\"Enter a value: \")\n",
        "\n",
        "try:\n",
        "    int_value = int(user_input_str)\n",
        "    print(f\"Converted to integer: {int_value} (type: {type(int_value)})\")\n",
        "except ValueError:\n",
        "    print(f\"Could not convert '{user_input_str}' to integer.\")\n",
        "\n",
        "try:\n",
        "    float_value = float(user_input_str)\n",
        "    print(f\"Converted to float: {float_value} (type: {type(float_value)})\")\n",
        "except ValueError:\n",
        "    print(f\"Could not convert '{user_input_str}' to float.\")\n",
        "\n",
        "try:\n",
        "    bool_value = bool(user_input_str)\n",
        "    print(f\"Converted to float: {bool_value} (type: {type(bool_value)})\")\n",
        "except ValueError:\n",
        "    print(f\"Could not convert '{user_input_str}' to bool.\")"
      ],
      "execution_count": 14,
      "outputs": [
        {
          "output_type": "stream",
          "name": "stdout",
          "text": [
            "Enter a value: 5\n",
            "Converted to integer: 5 (type: <class 'int'>)\n",
            "Converted to float: 5.0 (type: <class 'float'>)\n",
            "Converted to float: True (type: <class 'bool'>)\n"
          ]
        }
      ]
    },
    {
      "cell_type": "code",
      "metadata": {
        "colab": {
          "base_uri": "https://localhost:8080/"
        },
        "id": "dde53b9c",
        "outputId": "518b1def-991b-4c04-c55c-c90df74a81e0"
      },
      "source": [
        "# 10. Write code to demonstrate type casting with list elements.\n",
        "\n",
        "list1 = [\"1\", \"2\", \"3\"]\n",
        "print(list1)\n",
        "print(type(list1[0]))\n",
        "\n",
        "int_list = [int(item) for item in list1]\n",
        "\n",
        "print(int_list)\n",
        "print(type(int_list[0]))\n",
        "\n",
        "\n",
        "str_list = [str(item) for item in list1]\n",
        "\n",
        "print(str_list)\n",
        "print(type(str_list[0]))"
      ],
      "execution_count": 16,
      "outputs": [
        {
          "output_type": "stream",
          "name": "stdout",
          "text": [
            "['1', '2', '3']\n",
            "<class 'str'>\n",
            "[1, 2, 3]\n",
            "<class 'int'>\n",
            "['1', '2', '3']\n",
            "<class 'str'>\n"
          ]
        }
      ]
    },
    {
      "cell_type": "code",
      "source": [
        "# 11. Write a program that checks if a number is positive, negative, or zero.\n",
        "num = float(input(\"Enter a number: \"))\n",
        "\n",
        "if num > 0:\n",
        "    print(\"The number is positive.\")\n",
        "elif num < 0:\n",
        "    print(\"The number is negative.\")\n",
        "else:\n",
        "    print(\"The number is zero.\")"
      ],
      "metadata": {
        "colab": {
          "base_uri": "https://localhost:8080/"
        },
        "id": "X5rDm6ROyL_-",
        "outputId": "312977d1-f2e7-4166-8bc2-2fe31d897e48"
      },
      "execution_count": 1,
      "outputs": [
        {
          "output_type": "stream",
          "name": "stdout",
          "text": [
            "Enter a number: 5\n",
            "The number is positive.\n"
          ]
        }
      ]
    },
    {
      "cell_type": "code",
      "source": [
        "# 12. Write a for loop to print numbers from 1 to 10.\n",
        "for i in range(1, 11):\n",
        "    print(i)"
      ],
      "metadata": {
        "colab": {
          "base_uri": "https://localhost:8080/"
        },
        "id": "Wh9KRPglyXFZ",
        "outputId": "38e9641b-e0c9-4039-adee-8bf26601a82d"
      },
      "execution_count": 2,
      "outputs": [
        {
          "output_type": "stream",
          "name": "stdout",
          "text": [
            "1\n",
            "2\n",
            "3\n",
            "4\n",
            "5\n",
            "6\n",
            "7\n",
            "8\n",
            "9\n",
            "10\n"
          ]
        }
      ]
    },
    {
      "cell_type": "code",
      "source": [
        "# 13. Write a Python program to find the sum of all even numbers between 1 and 50.\n",
        "sum_even = 0\n",
        "for num in range(2, 51, 2):\n",
        "    sum_even += num\n",
        "print(\"Sum of even numbers between 1 and 50:\", sum_even)"
      ],
      "metadata": {
        "colab": {
          "base_uri": "https://localhost:8080/"
        },
        "id": "cGjL9rw8yc41",
        "outputId": "c1e25590-a987-488e-f17b-7e7ddc34e78e"
      },
      "execution_count": 3,
      "outputs": [
        {
          "output_type": "stream",
          "name": "stdout",
          "text": [
            "Sum of even numbers between 1 and 50: 650\n"
          ]
        }
      ]
    },
    {
      "cell_type": "code",
      "source": [
        "# 14. Write a program to reverse a string using a while loop.\n",
        "input_string = input(\"Enter a string: \")\n",
        "reversed_string = \"\"\n",
        "index = len(input_string) - 1\n",
        "\n",
        "while index >= 0:\n",
        "    reversed_string += input_string[index]\n",
        "    index -= 1\n",
        "\n",
        "print(\"Reversed string:\", reversed_string)"
      ],
      "metadata": {
        "colab": {
          "base_uri": "https://localhost:8080/"
        },
        "id": "nRbl2XGbyf2v",
        "outputId": "9a74b849-28a7-4292-82c0-caf3887ad69c"
      },
      "execution_count": 5,
      "outputs": [
        {
          "output_type": "stream",
          "name": "stdout",
          "text": [
            "Enter a string: Shrey\n",
            "Reversed string: yerhS\n"
          ]
        }
      ]
    },
    {
      "cell_type": "code",
      "source": [
        "# 15. Write a Python program to calculate the factorial of a number provided by the user using a while loop.\n",
        "\n",
        "num = int(input(\"Enter a non-negative integer: \"))\n",
        "factorial = 1\n",
        "\n",
        "if num < 0:\n",
        "    print(\"Factorial is not defined for negative numbers.\")\n",
        "elif num == 0:\n",
        "    print(\"The factorial of 0 is 1.\")\n",
        "else:\n",
        "    i = 1\n",
        "    while i <= num:\n",
        "        factorial *= i\n",
        "        i += 1\n",
        "    print(f\"The factorial of {num} is {factorial}\")"
      ],
      "metadata": {
        "colab": {
          "base_uri": "https://localhost:8080/"
        },
        "id": "Qqxt2Q7cyhaG",
        "outputId": "1ff32c06-b485-4f63-8e9a-85822665d59e"
      },
      "execution_count": 6,
      "outputs": [
        {
          "output_type": "stream",
          "name": "stdout",
          "text": [
            "Enter a non-negative integer: 5\n",
            "The factorial of 5 is 120\n"
          ]
        }
      ]
    }
  ]
}