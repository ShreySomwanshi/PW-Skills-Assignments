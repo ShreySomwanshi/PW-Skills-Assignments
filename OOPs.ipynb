{
  "nbformat": 4,
  "nbformat_minor": 0,
  "metadata": {
    "colab": {
      "provenance": []
    },
    "kernelspec": {
      "name": "python3",
      "display_name": "Python 3"
    },
    "language_info": {
      "name": "python"
    }
  },
  "cells": [
    {
      "cell_type": "markdown",
      "source": [
        "1. What is Object-Oriented Programming (OOP)?\n",
        "2. What is a class in OOP?\n",
        "3. What is an object in OOP?\n",
        "4. What is the difference between abstraction and encapsulation?\n",
        "5. What are dunder methods in Python?\n",
        "6. Explain the concept of inheritance in OOP.\n",
        "7. What is polymorphism in OOP?\n",
        "8. How is encapsulation achieved in Python?\n",
        "9. What is a constructor in Python?\n",
        "10. What are class and static methods in Python?\n",
        "11. What is method overloading in Python?\n",
        "12. What is method overriding in OOP?\n",
        "13. What is a property decorator in Python?\n",
        "14. Why is polymorphism important in OOP?\n",
        "15. What is an abstract class in Python?\n",
        "16. What are the advantages of OOP?\n",
        "17. What is the difference between a class variable and an instance variable?\n",
        "18. What is multiple inheritance in Python?\n",
        "19. Explain the purpose of '__str__' and '__repr__' methods in Python.\n",
        "20. What is the significance of the 'super()' function in Python?\n",
        "21. What is the significance of the __del__ method in Python?\n",
        "22. What is the difference between @staticmethod and @classmethod in Python?\n",
        "23. How does polymorphism work in Python with inheritance?\n",
        "24. What is method chaining in Python OOP?\n",
        "25. What is the purpose of the __call__ method in Python?"
      ],
      "metadata": {
        "id": "CalqMzKb7I56"
      }
    },
    {
      "cell_type": "markdown",
      "metadata": {
        "id": "13386e8a"
      },
      "source": [
        "1. **Object-Oriented Programming (OOP):** A programming paradigm based on the concept of \"objects\", which can contain data and code: data in the form of fields (often known as attributes or properties), and code, in the form of procedures (often known as methods)."
      ]
    },
    {
      "cell_type": "markdown",
      "metadata": {
        "id": "3dfd5d0f"
      },
      "source": [
        "2. **Class in OOP:** A blueprint for creating objects (a particular data structure), providing initial values for state (member variables or attributes), and implementations of behavior (member functions or methods)."
      ]
    },
    {
      "cell_type": "markdown",
      "metadata": {
        "id": "148654a1"
      },
      "source": [
        "3. **Object in OOP:** An instance of a class. When a class is defined, no memory is allocated until an object is created."
      ]
    },
    {
      "cell_type": "markdown",
      "metadata": {
        "id": "b2a86bc3"
      },
      "source": [
        "4. **Difference between Abstraction and Encapsulation:**\n",
        "   - **Abstraction:** Hiding the complex implementation details and showing only the necessary features of an object. It focuses on *what* the object does.\n",
        "   - **Encapsulation:** Bundling the data and the methods that operate on the data within a single unit (a class). It focuses on *how* to restrict access to the data and prevent external modification."
      ]
    },
    {
      "cell_type": "markdown",
      "metadata": {
        "id": "889556a6"
      },
      "source": [
        "5. **Dunder methods in Python:** Special methods in Python that have double underscores before and after their names (e.g., `__init__`, `__str__`). They allow Python classes to emulate built-in types and support operations that are not otherwise valid for user-defined objects."
      ]
    },
    {
      "cell_type": "markdown",
      "metadata": {
        "id": "366c7d23"
      },
      "source": [
        "6. **Inheritance in OOP:** A mechanism where a new class (derived or child class) is created from an existing class (base or parent class). The derived class inherits attributes and methods from the base class, promoting code reusability."
      ]
    },
    {
      "cell_type": "markdown",
      "metadata": {
        "id": "c5d148bc"
      },
      "source": [
        "7. **Polymorphism in OOP:** The ability of different objects to respond to the same method call in their own way. This allows for flexibility and extensibility in code."
      ]
    },
    {
      "cell_type": "markdown",
      "metadata": {
        "id": "0dcd0076"
      },
      "source": [
        "8. **Encapsulation in Python:** Achieved by using naming conventions to indicate that an attribute or method is intended to be private (though Python doesn't have strict private members like some other languages). Using a single underscore (`_`) indicates a protected member, and using double underscores (`__`) invokes name mangling, making it harder to access directly from outside the class."
      ]
    },
    {
      "cell_type": "markdown",
      "metadata": {
        "id": "4a323965"
      },
      "source": [
        "9. **Constructor in Python:** A special method `__init__` that is automatically called when an object of a class is created. It is used to initialize the attributes of the object."
      ]
    },
    {
      "cell_type": "markdown",
      "metadata": {
        "id": "80b3d1ee"
      },
      "source": [
        "10. **Class and Static methods in Python:**\n",
        "    - **Class Method:** Marked with the `@classmethod` decorator. It receives the class itself as the first argument (`cls`) and can access or modify class state.\n",
        "    - **Static Method:** Marked with the `@staticmethod` decorator. It does not receive an implicit first argument (neither instance nor class). It behaves like a regular function but is logically grouped with the class."
      ]
    },
    {
      "cell_type": "markdown",
      "metadata": {
        "id": "c78b0d73"
      },
      "source": [
        "11. **Method Overloading in Python:** Python does not support method overloading in the traditional sense (defining multiple methods with the same name but different parameters within the same class). The last defined method with a particular name will override previous definitions. You can achieve similar behavior using default arguments or variable-length argument lists."
      ]
    },
    {
      "cell_type": "markdown",
      "metadata": {
        "id": "e966f0d5"
      },
      "source": [
        "12. **Method Overriding in OOP:** When a method in a derived class has the same name, signature, and return type as a method in its base class. The method in the derived class overrides the method in the base class."
      ]
    },
    {
      "cell_type": "markdown",
      "metadata": {
        "id": "0275de84"
      },
      "source": [
        "13. **Property decorator in Python:** A built-in decorator (`@property`) that allows you to define methods that can be accessed like attributes. It's commonly used to create getter, setter, and deleter methods for class attributes, providing a way to manage access and modification of data."
      ]
    },
    {
      "cell_type": "markdown",
      "metadata": {
        "id": "89dcf512"
      },
      "source": [
        "14. **Why is Polymorphism important in OOP?** It allows for writing more flexible and reusable code. You can design interfaces that work with objects of different types, as long as they implement the required methods. This reduces code duplication and makes systems easier to maintain and extend."
      ]
    },
    {
      "cell_type": "markdown",
      "metadata": {
        "id": "51082cb6"
      },
      "source": [
        "15. **Abstract class in Python:** A class that cannot be instantiated on its own and is meant to be subclassed. It can contain abstract methods (methods declared but not implemented), which must be implemented by concrete subclasses. In Python, abstract classes are typically created using the `ABC` module and the `@abstractmethod` decorator."
      ]
    },
    {
      "cell_type": "markdown",
      "metadata": {
        "id": "20eb9555"
      },
      "source": [
        "16. **Advantages of OOP:**\n",
        "    - **Reusability:** Through inheritance.\n",
        "    - **Maintainability:** Code is organized and easier to understand.\n",
        "    - **Flexibility:** Through polymorphism.\n",
        "    - **Security:** Through encapsulation (data hiding).\n",
        "    - **Easier debugging:** Issues are often isolated to specific objects."
      ]
    },
    {
      "cell_type": "markdown",
      "metadata": {
        "id": "d640ea02"
      },
      "source": [
        "17. **Difference between a class variable and an instance variable:**\n",
        "    - **Class Variable:** Shared by all instances of a class. Defined within the class but outside of any methods.\n",
        "    - **Instance Variable:** Unique to each instance of a class. Defined within methods using `self`."
      ]
    },
    {
      "cell_type": "markdown",
      "metadata": {
        "id": "4d04816a"
      },
      "source": [
        "18. **Multiple inheritance in Python:** A feature where a class can inherit from more than one base class. This can lead to complex inheritance hierarchies and potential issues like the \"diamond problem,\" which Python handles using a Method Resolution Order (MRO)."
      ]
    },
    {
      "cell_type": "markdown",
      "metadata": {
        "id": "ad9a658a"
      },
      "source": [
        "19. **Purpose of `__str__` and `__repr__` methods in Python:**\n",
        "    - **`__str__`:** Provides a user-friendly string representation of an object. Called by `str()` and `print()`.\n",
        "    - **`__repr__`:** Provides an unambiguous, developer-friendly string representation of an object. Should ideally be an expression that could be used to recreate the object. Called by `repr()` and in interactive sessions."
      ]
    },
    {
      "cell_type": "markdown",
      "metadata": {
        "id": "8cdcc918"
      },
      "source": [
        "20. **Significance of the `super()` function in Python:** Used in the derived class to refer to the parent class. It's commonly used to call methods of the parent class, especially the constructor (`__init__`), ensuring that the parent class is properly initialized."
      ]
    },
    {
      "cell_type": "markdown",
      "metadata": {
        "id": "25e9d056"
      },
      "source": [
        "21. **Significance of the `__del__` method in Python:** Called when an object is about to be garbage collected (its reference count drops to zero). It's used for clean-up operations, such as closing files or releasing external resources. However, its execution time is not guaranteed."
      ]
    },
    {
      "cell_type": "markdown",
      "metadata": {
        "id": "a264a593"
      },
      "source": [
        "22. **Difference between `@staticmethod` and `@classmethod` in Python:**\n",
        "    - `@staticmethod`: Doesn't receive an implicit first argument. Behaves like a regular function.\n",
        "    - `@classmethod`: Receives the class (`cls`) as the first implicit argument. Can access or modify class state."
      ]
    },
    {
      "cell_type": "markdown",
      "metadata": {
        "id": "81f731f0"
      },
      "source": [
        "23. **How does polymorphism work in Python with inheritance?** Through method overriding. If a base class and a derived class have a method with the same name, calling that method on an object of the derived class will execute the derived class's version of the method."
      ]
    },
    {
      "cell_type": "markdown",
      "metadata": {
        "id": "7500e37c"
      },
      "source": [
        "24. **Method chaining in Python OOP:** A style of programming where multiple method calls are strung together in a single expression. This is possible when each method call returns an object (usually the instance itself, `self`), allowing the next method to be called on the result of the previous call."
      ]
    },
    {
      "cell_type": "markdown",
      "metadata": {
        "id": "98fa8cb9"
      },
      "source": [
        "25. **Purpose of the `__call__` method in Python:** Allows an instance of a class to be called like a function. If a class implements this method, you can create an object of that class and then call that object using parentheses, just like calling a function."
      ]
    },
    {
      "cell_type": "code",
      "source": [
        "#1 Create a parent class Animal with a method speak() that prints a generic message. Create a child class Dog that overrides the speak() method to print \"Bark!\".\n",
        "class Animal:\n",
        "    def speak(self):\n",
        "        print(\"Generic animal sound\")\n",
        "\n",
        "class Dog(Animal):\n",
        "    def speak(self):\n",
        "        print(\"Bark!\")\n",
        "\n",
        "\n",
        "animal = Animal()\n",
        "dog = Dog()\n",
        "\n",
        "animal.speak()\n",
        "dog.speak()"
      ],
      "metadata": {
        "colab": {
          "base_uri": "https://localhost:8080/"
        },
        "id": "BVIp_49p9GoV",
        "outputId": "91268baf-66c5-4c00-a25b-68c358b60803"
      },
      "execution_count": 2,
      "outputs": [
        {
          "output_type": "stream",
          "name": "stdout",
          "text": [
            "Generic animal sound\n",
            "Bark!\n"
          ]
        }
      ]
    },
    {
      "cell_type": "code",
      "source": [
        "#2 Write a program to create an abstract class Shape with a method area(). Derive classes Circle and Rectangle from it and implement the area() method in both.\n",
        "from abc import ABC, abstractmethod\n",
        "import math\n",
        "\n",
        "class Shape(ABC):\n",
        "    @abstractmethod\n",
        "    def area(self):\n",
        "        pass\n",
        "\n",
        "class Circle(Shape):\n",
        "    def __init__(self, radius):\n",
        "        self.radius = radius\n",
        "\n",
        "    def area(self):\n",
        "        return math.pi * self.radius**2\n",
        "\n",
        "class Rectangle(Shape):\n",
        "    def __init__(self, length, width):\n",
        "        self.length = length\n",
        "        self.width = width\n",
        "\n",
        "    def area(self):\n",
        "        return self.length * self.width\n",
        "\n",
        "circle = Circle(5)\n",
        "rectangle = Rectangle(4, 6)\n",
        "\n",
        "print(f\"Area of Circle: {circle.area()}\")\n",
        "print(f\"Area of Rectangle: {rectangle.area()}\")"
      ],
      "metadata": {
        "colab": {
          "base_uri": "https://localhost:8080/"
        },
        "id": "I6Pu45rk9Qo9",
        "outputId": "d56e944f-7daa-4112-a40e-8c6c02d3a444"
      },
      "execution_count": 3,
      "outputs": [
        {
          "output_type": "stream",
          "name": "stdout",
          "text": [
            "Area of Circle: 78.53981633974483\n",
            "Area of Rectangle: 24\n"
          ]
        }
      ]
    },
    {
      "cell_type": "code",
      "source": [
        "#3 Implement a multi-level inheritance scenario where a class Vehicle has an attribute type. Derive a class Car and further derive a class ElectricCar that adds a battery attribute.\n",
        "class Vehicle:\n",
        "    def __init__(self, vehicle_type):\n",
        "        self.type = vehicle_type\n",
        "\n",
        "class Car(Vehicle):\n",
        "    def __init__(self, car_type, model):\n",
        "        super().__init__(car_type)\n",
        "        self.model = model\n",
        "\n",
        "class ElectricCar(Car):\n",
        "    def __init__(self, car_type, model, battery_capacity):\n",
        "        super().__init__(car_type, model)\n",
        "        self.battery = battery_capacity\n",
        "\n",
        "\n",
        "vehicle = Vehicle(\"General\")\n",
        "car = Car(\"Sedan\", \"Camry\")\n",
        "electric_car = ElectricCar(\"Sedan\", \"Model S\", \"100 kWh\")\n",
        "\n",
        "print(f\"Vehicle Type: {vehicle.type}\")\n",
        "print(f\"Car Type: {car.type}, Model: {car.model}\")\n",
        "print(f\"Electric Car Type: {electric_car.type}, Model: {electric_car.model}, Battery: {electric_car.battery}\")"
      ],
      "metadata": {
        "colab": {
          "base_uri": "https://localhost:8080/"
        },
        "id": "nJwZ76ma9PlI",
        "outputId": "363ec021-7b95-4c44-b08b-1fc4cd995552"
      },
      "execution_count": 4,
      "outputs": [
        {
          "output_type": "stream",
          "name": "stdout",
          "text": [
            "Vehicle Type: General\n",
            "Car Type: Sedan, Model: Camry\n",
            "Electric Car Type: Sedan, Model: Model S, Battery: 100 kWh\n"
          ]
        }
      ]
    },
    {
      "cell_type": "code",
      "source": [
        "#4 Demonstrate polymorphism by creating a base class Bird with a method fly(). Create two derived classes Sparrow and Penguin that override the fly() method.\n",
        "class Bird:\n",
        "    def fly(self):\n",
        "        print(\"Most birds can fly\")\n",
        "\n",
        "class Sparrow(Bird):\n",
        "    def fly(self):\n",
        "        print(\"Sparrows fly high\")\n",
        "\n",
        "class Penguin(Bird):\n",
        "    def fly(self):\n",
        "        print(\"Penguins cannot fly, but they can swim!\")\n",
        "\n",
        "\n",
        "def make_bird_fly(bird):\n",
        "    bird.fly()\n",
        "\n",
        "bird = Bird()\n",
        "sparrow = Sparrow()\n",
        "penguin = Penguin()\n",
        "\n",
        "make_bird_fly(bird)\n",
        "make_bird_fly(sparrow)\n",
        "make_bird_fly(penguin)"
      ],
      "metadata": {
        "colab": {
          "base_uri": "https://localhost:8080/"
        },
        "id": "b_CkJzr49PaF",
        "outputId": "09b522a2-c962-4fd3-eb02-e7bf3cb03894"
      },
      "execution_count": 5,
      "outputs": [
        {
          "output_type": "stream",
          "name": "stdout",
          "text": [
            "Most birds can fly\n",
            "Sparrows fly high\n",
            "Penguins cannot fly, but they can swim!\n"
          ]
        }
      ]
    },
    {
      "cell_type": "code",
      "source": [
        "#5 Write a program to demonstrate encapsulation by creating a class BankAccount with private attributes balance and methods to deposit, withdraw, and check balance.\n",
        "class BankAccount:\n",
        "    def __init__(self, initial_balance=0):\n",
        "\n",
        "        self.__balance = initial_balance\n",
        "\n",
        "    def deposit(self, amount):\n",
        "        if amount > 0:\n",
        "            self.__balance += amount\n",
        "            print(f\"Deposited: ${amount}. New balance: ${self.__balance}\")\n",
        "        else:\n",
        "            print(\"Deposit amount must be positive.\")\n",
        "\n",
        "    def withdraw(self, amount):\n",
        "        if amount > 0:\n",
        "            if self.__balance >= amount:\n",
        "                self.__balance -= amount\n",
        "                print(f\"Withdrew: ${amount}. New balance: ${self.__balance}\")\n",
        "            else:\n",
        "                print(\"Insufficient funds.\")\n",
        "        else:\n",
        "            print(\"Withdrawal amount must be positive.\")\n",
        "\n",
        "    def get_balance(self):\n",
        "        return self.__balance\n",
        "\n",
        "\n",
        "account = BankAccount(1000)\n",
        "\n",
        "account.deposit(500)\n",
        "account.withdraw(200)\n",
        "account.withdraw(2000)\n",
        "print(f\"Current balance: ${account.get_balance()}\")"
      ],
      "metadata": {
        "colab": {
          "base_uri": "https://localhost:8080/"
        },
        "id": "ugXGM_3I9LTS",
        "outputId": "ac774631-954f-4a14-a3ab-93e5d4c35309"
      },
      "execution_count": 6,
      "outputs": [
        {
          "output_type": "stream",
          "name": "stdout",
          "text": [
            "Deposited: $500. New balance: $1500\n",
            "Withdrew: $200. New balance: $1300\n",
            "Insufficient funds.\n",
            "Current balance: $1300\n"
          ]
        }
      ]
    },
    {
      "cell_type": "code",
      "source": [
        "#6  Demonstrate runtime polymorphism using a method play() in a base class Instrument. Derive classes Guitar and Piano that implement their own version of play().\n",
        "class Instrument:\n",
        "    def play(self):\n",
        "        print(\"Playing a generic instrument sound\")\n",
        "\n",
        "class Guitar(Instrument):\n",
        "    def play(self):\n",
        "        print(\"Strumming the guitar\")\n",
        "\n",
        "class Piano(Instrument):\n",
        "    def play(self):\n",
        "        print(\"Playing the piano keys\")\n",
        "\n",
        "\n",
        "def make_instrument_play(instrument):\n",
        "    instrument.play()\n",
        "\n",
        "instrument = Instrument()\n",
        "guitar = Guitar()\n",
        "piano = Piano()\n",
        "\n",
        "make_instrument_play(instrument)\n",
        "make_instrument_play(guitar)\n",
        "make_instrument_play(piano)"
      ],
      "metadata": {
        "colab": {
          "base_uri": "https://localhost:8080/"
        },
        "id": "iyd4Vstg9LQn",
        "outputId": "fecd2079-efe0-49d6-90af-b8c0ae3604cd"
      },
      "execution_count": 7,
      "outputs": [
        {
          "output_type": "stream",
          "name": "stdout",
          "text": [
            "Playing a generic instrument sound\n",
            "Strumming the guitar\n",
            "Playing the piano keys\n"
          ]
        }
      ]
    },
    {
      "cell_type": "code",
      "source": [
        "#7 Create a class MathOperations with a class method add_numbers() to add two numbers and a static method subtract_numbers() to subtract two numbers.\n",
        "class MathOperations:\n",
        "    @classmethod\n",
        "    def add_numbers(cls, num1, num2):\n",
        "        \"\"\"Adds two numbers using a class method.\"\"\"\n",
        "        print(f\"Using class method: {cls.__name__}\")\n",
        "        return num1 + num2\n",
        "\n",
        "    @staticmethod\n",
        "    def subtract_numbers(num1, num2):\n",
        "        \"\"\"Subtracts two numbers using a static method.\"\"\"\n",
        "        print(\"Using static method\")\n",
        "        return num1 - num2\n",
        "\n",
        "sum_result = MathOperations.add_numbers(10, 5)\n",
        "print(f\"Sum: {sum_result}\")\n",
        "\n",
        "difference_result = MathOperations.subtract_numbers(10, 5)\n",
        "print(f\"Difference: {difference_result}\")\n",
        "\n",
        "math_instance = MathOperations()\n",
        "sum_result_instance = math_instance.add_numbers(20, 10)\n",
        "print(f\"Sum (from instance): {sum_result_instance}\")\n",
        "difference_result_instance = math_instance.subtract_numbers(20, 10)\n",
        "print(f\"Difference (from instance): {difference_result_instance}\")"
      ],
      "metadata": {
        "colab": {
          "base_uri": "https://localhost:8080/"
        },
        "id": "WTRlTlKC9LOr",
        "outputId": "5111de02-b634-467a-d578-c29cf7ba65d9"
      },
      "execution_count": 8,
      "outputs": [
        {
          "output_type": "stream",
          "name": "stdout",
          "text": [
            "Using class method: MathOperations\n",
            "Sum: 15\n",
            "Using static method\n",
            "Difference: 5\n",
            "Using class method: MathOperations\n",
            "Sum (from instance): 30\n",
            "Using static method\n",
            "Difference (from instance): 10\n"
          ]
        }
      ]
    },
    {
      "cell_type": "code",
      "source": [
        "#8  Implement a class Person with a class method to count the total number of persons created.\n",
        "class Person:\n",
        "\n",
        "    number_of_persons = 0\n",
        "\n",
        "    def __init__(self, name):\n",
        "        self.name = name\n",
        "\n",
        "        Person.number_of_persons += 1\n",
        "        print(f\"A new person '{self.name}' has been created.\")\n",
        "\n",
        "    @classmethod\n",
        "    def count_persons(cls):\n",
        "        \"\"\"Class method to return the total number of persons created.\"\"\"\n",
        "        return cls.number_of_persons\n",
        "\n",
        "\n",
        "person1 = Person(\"Alice\")\n",
        "person2 = Person(\"Bob\")\n",
        "person3 = Person(\"Charlie\")\n",
        "\n",
        "\n",
        "total_persons = Person.count_persons()\n",
        "print(f\"Total number of persons created: {total_persons}\")\n",
        "\n",
        "\n",
        "total_persons_from_instance = person1.count_persons()\n",
        "print(f\"Total number of persons created (from instance): {total_persons_from_instance}\")"
      ],
      "metadata": {
        "colab": {
          "base_uri": "https://localhost:8080/"
        },
        "id": "1nAndJO29LM5",
        "outputId": "97bbef07-e680-4402-ac33-59b9a4ec34a8"
      },
      "execution_count": 9,
      "outputs": [
        {
          "output_type": "stream",
          "name": "stdout",
          "text": [
            "A new person 'Alice' has been created.\n",
            "A new person 'Bob' has been created.\n",
            "A new person 'Charlie' has been created.\n",
            "Total number of persons created: 3\n",
            "Total number of persons created (from instance): 3\n"
          ]
        }
      ]
    },
    {
      "cell_type": "code",
      "source": [
        "#9 Write a class Fraction with attributes numerator and denominator. Override the str method to display the fraction as \"numerator/denominator\".\n",
        "class Fraction:\n",
        "    def __init__(self, numerator, denominator):\n",
        "        if denominator == 0:\n",
        "            raise ValueError(\"Denominator cannot be zero\")\n",
        "        self.numerator = numerator\n",
        "        self.denominator = denominator\n",
        "\n",
        "    def __str__(self):\n",
        "        \"\"\"Overrides the string representation to display as 'numerator/denominator'.\"\"\"\n",
        "        return f\"{self.numerator}/{self.denominator}\"\n",
        "\n",
        "\n",
        "fraction1 = Fraction(3, 4)\n",
        "fraction2 = Fraction(1, 2)\n",
        "\n",
        "print(fraction1)\n",
        "print(fraction2)\n",
        "\n",
        "print(str(fraction1))"
      ],
      "metadata": {
        "colab": {
          "base_uri": "https://localhost:8080/"
        },
        "id": "ZDr4ybC99LKv",
        "outputId": "8bf84efc-afef-4d97-a5af-00496381a6f2"
      },
      "execution_count": 10,
      "outputs": [
        {
          "output_type": "stream",
          "name": "stdout",
          "text": [
            "3/4\n",
            "1/2\n",
            "3/4\n"
          ]
        }
      ]
    },
    {
      "cell_type": "code",
      "source": [
        "#10 Demonstrate operator overloading by creating a class Vector and overriding the add method to add two vectors.\n",
        "class Vector:\n",
        "    def __init__(self, x, y):\n",
        "        self.x = x\n",
        "        self.y = y\n",
        "\n",
        "    def __str__(self):\n",
        "        return f\"Vector({self.x}, {self.y})\"\n",
        "\n",
        "    def __add__(self, other):\n",
        "        \"\"\"Overrides the '+' operator to add two Vector objects.\"\"\"\n",
        "        if isinstance(other, Vector):\n",
        "            return Vector(self.x + other.x, self.y + other.y)\n",
        "        else:\n",
        "            raise TypeError(\"Can only add a Vector to another Vector\")\n",
        "\n",
        "\n",
        "vector1 = Vector(2, 3)\n",
        "vector2 = Vector(1, 5)\n",
        "\n",
        "\n",
        "vector3 = vector1 + vector2\n",
        "print(f\"Vector 1: {vector1}\")\n",
        "print(f\"Vector 2: {vector2}\")\n",
        "print(f\"Vector 1 + Vector 2: {vector3}\")"
      ],
      "metadata": {
        "colab": {
          "base_uri": "https://localhost:8080/"
        },
        "id": "Tnhetv-H9KXt",
        "outputId": "aa21396d-1cb6-452e-dbc1-6ad0c6f5d780"
      },
      "execution_count": 11,
      "outputs": [
        {
          "output_type": "stream",
          "name": "stdout",
          "text": [
            "Vector 1: Vector(2, 3)\n",
            "Vector 2: Vector(1, 5)\n",
            "Vector 1 + Vector 2: Vector(3, 8)\n"
          ]
        }
      ]
    },
    {
      "cell_type": "code",
      "source": [
        "#11 Create a class Person with attributes name and age. Add a method greet() that prints \"Hello, my name is {name} and I am {age} years old.\"\n",
        "class Person:\n",
        "    def __init__(self, name, age):\n",
        "        self.name = name\n",
        "        self.age = age\n",
        "\n",
        "    def greet(self):\n",
        "        print(f\"Hello, my name is {self.name} and I am {self.age} years old.\")\n",
        "\n",
        "\n",
        "person1 = Person(\"Alice\", 30)\n",
        "person1.greet()\n",
        "\n",
        "person2 = Person(\"Bob\", 25)\n",
        "person2.greet()"
      ],
      "metadata": {
        "colab": {
          "base_uri": "https://localhost:8080/"
        },
        "id": "WqM1KJNj9KPx",
        "outputId": "f35b1aee-ae23-4530-845c-ccf0e9216a79"
      },
      "execution_count": 12,
      "outputs": [
        {
          "output_type": "stream",
          "name": "stdout",
          "text": [
            "Hello, my name is Alice and I am 30 years old.\n",
            "Hello, my name is Bob and I am 25 years old.\n"
          ]
        }
      ]
    },
    {
      "cell_type": "code",
      "source": [
        "#12 Implement a class Student with attributes name and grades. Create a method average_grade() to compute the average of the grades\n",
        "class Student:\n",
        "    def __init__(self, name, grades):\n",
        "        self.name = name\n",
        "        self.grades = grades\n",
        "\n",
        "    def average_grade(self):\n",
        "        \"\"\"Computes the average of the student's grades.\"\"\"\n",
        "        if not self.grades:\n",
        "            return 0\n",
        "        return sum(self.grades) / len(self.grades)\n",
        "\n",
        "\n",
        "student1 = Student(\"Alice\", [85, 90, 92, 88, 95])\n",
        "student2 = Student(\"Bob\", [70, 75, 80])\n",
        "student3 = Student(\"Charlie\", [])\n",
        "\n",
        "print(f\"{student1.name}'s average grade: {student1.average_grade()}\")\n",
        "print(f\"{student2.name}'s average grade: {student2.average_grade()}\")\n",
        "print(f\"{student3.name}'s average grade: {student3.average_grade()}\")"
      ],
      "metadata": {
        "colab": {
          "base_uri": "https://localhost:8080/"
        },
        "id": "tKkm5V5o9KKm",
        "outputId": "e1e2050c-8a93-445d-e667-042607789a7e"
      },
      "execution_count": 13,
      "outputs": [
        {
          "output_type": "stream",
          "name": "stdout",
          "text": [
            "Alice's average grade: 90.0\n",
            "Bob's average grade: 75.0\n",
            "Charlie's average grade: 0\n"
          ]
        }
      ]
    },
    {
      "cell_type": "code",
      "source": [
        "#13 Create a class Rectangle with methods set_dimensions() to set the dimensions and area() to calculate the area.\n",
        "class Rectangle:\n",
        "    def __init__(self, length=0, width=0):\n",
        "        self.length = length\n",
        "        self.width = width\n",
        "\n",
        "    def set_dimensions(self, length, width):\n",
        "        \"\"\"Sets the length and width of the rectangle.\"\"\"\n",
        "        if length >= 0 and width >= 0:\n",
        "            self.length = length\n",
        "            self.width = width\n",
        "        else:\n",
        "            print(\"Dimensions must be non-negative.\")\n",
        "\n",
        "    def area(self):\n",
        "        \"\"\"Calculates the area of the rectangle.\"\"\"\n",
        "        return self.length * self.width\n",
        "\n",
        "rectangle1 = Rectangle()\n",
        "rectangle1.set_dimensions(5, 10)\n",
        "print(f\"Rectangle 1 Area: {rectangle1.area()}\")\n",
        "\n",
        "rectangle2 = Rectangle(3, 7)\n",
        "print(f\"Rectangle 2 Area: {rectangle2.area()}\")\n",
        "\n",
        "rectangle1.set_dimensions(6, 8)\n",
        "print(f\"Rectangle 1 Area (after changing dimensions): {rectangle1.area()}\")"
      ],
      "metadata": {
        "colab": {
          "base_uri": "https://localhost:8080/"
        },
        "id": "cwFTS13o9KHJ",
        "outputId": "0f00ee7e-a020-4d17-8bfa-3898bc482e99"
      },
      "execution_count": 14,
      "outputs": [
        {
          "output_type": "stream",
          "name": "stdout",
          "text": [
            "Rectangle 1 Area: 50\n",
            "Rectangle 2 Area: 21\n",
            "Rectangle 1 Area (after changing dimensions): 48\n"
          ]
        }
      ]
    },
    {
      "cell_type": "code",
      "source": [
        "#14 Create a class Employee with a method calculate_salary() that computes the salary based on hours worked and hourly rate. Create a derived class Manager that adds a bonus to the salary.\n",
        "class Employee:\n",
        "    def __init__(self, hours_worked, hourly_rate):\n",
        "        self.hours_worked = hours_worked\n",
        "        self.hourly_rate = hourly_rate\n",
        "\n",
        "    def calculate_salary(self):\n",
        "        \"\"\"Computes the basic salary.\"\"\"\n",
        "        return self.hours_worked * self.hourly_rate\n",
        "\n",
        "class Manager(Employee):\n",
        "    def __init__(self, hours_worked, hourly_rate, bonus):\n",
        "        super().__init__(hours_worked, hourly_rate)\n",
        "        self.bonus = bonus\n",
        "\n",
        "    def calculate_salary(self):\n",
        "        \"\"\"Computes the salary including a bonus for managers.\"\"\"\n",
        "        base_salary = super().calculate_salary()\n",
        "        return base_salary + self.bonus\n",
        "\n",
        "\n",
        "employee1 = Employee(40, 20)\n",
        "print(f\"Employee 1 Salary: ${employee1.calculate_salary()}\")\n",
        "\n",
        "manager1 = Manager(40, 25, 500)\n",
        "print(f\"Manager 1 Salary: ${manager1.calculate_salary()}\")"
      ],
      "metadata": {
        "colab": {
          "base_uri": "https://localhost:8080/"
        },
        "id": "weDNWscx9KDg",
        "outputId": "5396a22c-564a-4539-bf8a-b1b50caed33c"
      },
      "execution_count": 15,
      "outputs": [
        {
          "output_type": "stream",
          "name": "stdout",
          "text": [
            "Employee 1 Salary: $800\n",
            "Manager 1 Salary: $1500\n"
          ]
        }
      ]
    },
    {
      "cell_type": "code",
      "source": [
        "#15 Create a class Product with attributes name, price, and quantity. Implement a method total_price() that calculates the total price of the product.\n",
        "class Product:\n",
        "    def __init__(self, name, price, quantity):\n",
        "        self.name = name\n",
        "        self.price = price\n",
        "        self.quantity = quantity\n",
        "\n",
        "    def total_price(self):\n",
        "        \"\"\"Calculates the total price of the product.\"\"\"\n",
        "        return self.price * self.quantity\n",
        "\n",
        "\n",
        "product1 = Product(\"Laptop\", 1200, 1)\n",
        "product2 = Product(\"Mouse\", 25, 5)\n",
        "\n",
        "print(f\"Product: {product1.name}, Total Price: ${product1.total_price()}\")\n",
        "print(f\"Product: {product2.name}, Total Price: ${product2.total_price()}\")"
      ],
      "metadata": {
        "colab": {
          "base_uri": "https://localhost:8080/"
        },
        "id": "KsOPS6xx9KB4",
        "outputId": "3afd164e-2db8-4ae4-8f5c-459de706fd3e"
      },
      "execution_count": 16,
      "outputs": [
        {
          "output_type": "stream",
          "name": "stdout",
          "text": [
            "Product: Laptop, Total Price: $1200\n",
            "Product: Mouse, Total Price: $125\n"
          ]
        }
      ]
    },
    {
      "cell_type": "code",
      "source": [
        "#16 Create a class Animal with an abstract method sound(). Create two derived classes Cow and Sheep that implement the sound() method.\n",
        "from abc import ABC, abstractmethod\n",
        "\n",
        "class Animal(ABC):\n",
        "    @abstractmethod\n",
        "    def sound(self):\n",
        "        pass\n",
        "\n",
        "class Cow(Animal):\n",
        "    def sound(self):\n",
        "        return \"Moo!\"\n",
        "\n",
        "class Sheep(Animal):\n",
        "    def sound(self):\n",
        "        return \"Baa!\"\n",
        "\n",
        "\n",
        "cow = Cow()\n",
        "sheep = Sheep()\n",
        "\n",
        "print(f\"Cow says: {cow.sound()}\")\n",
        "print(f\"Sheep says: {sheep.sound()}\")"
      ],
      "metadata": {
        "colab": {
          "base_uri": "https://localhost:8080/"
        },
        "id": "vpA60yMV9J_p",
        "outputId": "c39b3491-1409-4af5-bd83-696bbf2acbc1"
      },
      "execution_count": 17,
      "outputs": [
        {
          "output_type": "stream",
          "name": "stdout",
          "text": [
            "Cow says: Moo!\n",
            "Sheep says: Baa!\n"
          ]
        }
      ]
    },
    {
      "cell_type": "code",
      "source": [
        "#17 Create a class Book with attributes title, author, and year_published. Add a method get_book_info() that returns a formatted string with the book's details\n",
        "class Book:\n",
        "    def __init__(self, title, author, year_published):\n",
        "        self.title = title\n",
        "        self.author = author\n",
        "        self.year_published = year_published\n",
        "\n",
        "    def get_book_info(self):\n",
        "        \"\"\"Returns a formatted string with the book's details.\"\"\"\n",
        "        return f\"'{self.title}' by {self.author}, published in {self.year_published}\"\n",
        "\n",
        "\n",
        "book1 = Book(\"The Hitchhiker's Guide to the Galaxy\", \"Douglas Adams\", 1979)\n",
        "book2 = Book(\"Pride and Prejudice\", \"Jane Austen\", 1813)\n",
        "\n",
        "print(book1.get_book_info())\n",
        "print(book2.get_book_info())"
      ],
      "metadata": {
        "colab": {
          "base_uri": "https://localhost:8080/"
        },
        "id": "aojRRBQq9J99",
        "outputId": "9360c422-11e3-4d78-be50-cd5a60379948"
      },
      "execution_count": 18,
      "outputs": [
        {
          "output_type": "stream",
          "name": "stdout",
          "text": [
            "'The Hitchhiker's Guide to the Galaxy' by Douglas Adams, published in 1979\n",
            "'Pride and Prejudice' by Jane Austen, published in 1813\n"
          ]
        }
      ]
    },
    {
      "cell_type": "code",
      "source": [
        "#18 Create a class House with attributes address and price. Create a derived class Mansion that adds an attribute number_of_rooms.\n",
        "class House:\n",
        "    def __init__(self, address, price):\n",
        "        self.address = address\n",
        "        self.price = price\n",
        "\n",
        "class Mansion(House):\n",
        "    def __init__(self, address, price, number_of_rooms):\n",
        "        super().__init__(address, price)  # Call the parent class (House) constructor\n",
        "        self.number_of_rooms = number_of_rooms\n",
        "\n",
        "\n",
        "house1 = House(\"123 Main St\", 300000)\n",
        "mansion1 = Mansion(\"456 Park Ave\", 5000000, 20)\n",
        "\n",
        "print(f\"House at {house1.address} costs ${house1.price}\")\n",
        "print(f\"Mansion at {mansion1.address} costs ${mansion1.price} and has {mansion1.number_of_rooms} rooms\")"
      ],
      "metadata": {
        "colab": {
          "base_uri": "https://localhost:8080/"
        },
        "id": "X6tmrCJ_9JOB",
        "outputId": "6684d795-9552-4b94-c501-ea6e5465ea57"
      },
      "execution_count": 19,
      "outputs": [
        {
          "output_type": "stream",
          "name": "stdout",
          "text": [
            "House at 123 Main St costs $300000\n",
            "Mansion at 456 Park Ave costs $5000000 and has 20 rooms\n"
          ]
        }
      ]
    }
  ]
}