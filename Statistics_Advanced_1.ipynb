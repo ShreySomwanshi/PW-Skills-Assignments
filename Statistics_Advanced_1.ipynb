{
  "nbformat": 4,
  "nbformat_minor": 0,
  "metadata": {
    "colab": {
      "provenance": []
    },
    "kernelspec": {
      "name": "python3",
      "display_name": "Python 3"
    },
    "language_info": {
      "name": "python"
    }
  },
  "cells": [
    {
      "cell_type": "markdown",
      "metadata": {
        "id": "179db791"
      },
      "source": [
        "**Question 1: What is a random variable in probability theory?**\n",
        "\n",
        "In probability theory, a **random variable** is a variable whose value is a numerical outcome of a random phenomenon. It's a function that maps the outcomes of a random process (like flipping a coin or rolling a die) to numerical values.\n",
        "\n",
        "There are two main types of random variables:\n",
        "\n",
        "*   **Discrete random variables:** These can only take on a finite or countably infinite number of values. Examples include the number of heads in a series of coin flips or the number of cars passing a point on a road in an hour.\n",
        "*   **Continuous random variables:** These can take on any value within a given range. Examples include the height of a person or the time it takes for a light bulb to burn out.\n",
        "\n",
        "Random variables are fundamental to probability and statistics, allowing us to quantify and analyze random events."
      ]
    },
    {
      "cell_type": "markdown",
      "metadata": {
        "id": "0d49acfc"
      },
      "source": [
        "**Question 2: What are the types of random variables?**\n",
        "\n",
        "There are two main types of random variables:\n",
        "\n",
        "*   **Discrete random variables:** These can only take on a finite or countably infinite number of values. Examples include the number of heads in a series of coin flips, the number of defective items in a sample, or the number of calls received by a call center in an hour.\n",
        "*   **Continuous random variables:** These can take on any value within a given range. Examples include the height of a person, the weight of an object, the time it takes for a task to be completed, or the temperature of a room."
      ]
    },
    {
      "cell_type": "markdown",
      "metadata": {
        "id": "6169649c"
      },
      "source": [
        "**Question 3: Explain the difference between discrete and continuous distributions.**\n",
        "\n",
        "The difference between discrete and continuous distributions lies in the type of random variable they describe:\n",
        "\n",
        "*   **Discrete distributions:** These describe the probabilities of outcomes for discrete random variables. The possible values are distinct and separate (e.g., the probability of getting exactly 3 heads in 5 coin flips). The probability mass function (PMF) is used to define the probability of each specific outcome.\n",
        "*   **Continuous distributions:** These describe the probabilities of outcomes for continuous random variables. The possible values can fall anywhere within a range (e.g., the probability that a person's height is between 160 cm and 170 cm). The probability density function (PDF) is used to describe the likelihood of a value falling within a certain range. For continuous distributions, the probability of any single, exact value is zero.\n",
        "\n",
        "In essence, discrete distributions deal with countable outcomes, while continuous distributions deal with outcomes that can take any value within a given interval."
      ]
    },
    {
      "cell_type": "markdown",
      "metadata": {
        "id": "2be1ab28"
      },
      "source": [
        "**Question 4: What is a binomial distribution, and how is it used in probability?**\n",
        "\n",
        "A **binomial distribution** is a discrete probability distribution that describes the probability of obtaining a specific number of successes in a fixed number of independent Bernoulli trials. A Bernoulli trial is a random experiment with exactly two possible outcomes, typically labeled \"success\" and \"failure,\" where the probability of success is the same for each trial.\n",
        "\n",
        "The binomial distribution is used in probability to model situations where:\n",
        "\n",
        "1.  There are a fixed number of trials (n).\n",
        "2.  Each trial has only two possible outcomes (success or failure).\n",
        "3.  The probability of success (p) is constant for each trial.\n",
        "4.  The trials are independent of each other.\n",
        "\n",
        "Examples of where a binomial distribution can be used include:\n",
        "\n",
        "*   The number of heads in a series of coin flips.\n",
        "*   The number of defective items in a sample from a production line.\n",
        "*   The number of successful marketing calls in a day.\n",
        "\n",
        "The probability mass function (PMF) of a binomial distribution is given by the formula:\n",
        "\n",
        "P(X=k) = C(n, k) * p^k * (1-p)^(n-k)\n",
        "\n",
        "Where:\n",
        "\n",
        "*   P(X=k) is the probability of getting exactly k successes.\n",
        "*   C(n, k) is the binomial coefficient, which represents the number of ways to choose k successes from n trials.\n",
        "*   p is the probability of success on a single trial.\n",
        "*   (1-p) is the probability of failure on a single trial.\n",
        "*   n is the number of trials.\n",
        "*   k is the number of successes."
      ]
    },
    {
      "cell_type": "markdown",
      "metadata": {
        "id": "6cace28e"
      },
      "source": [
        "**Question 5: What is the standard normal distribution, and why is it important?**\n",
        "\n",
        "The **standard normal distribution** is a special case of the normal distribution with a mean ($\\mu$) of 0 and a standard deviation ($\\sigma$) of 1. It is often denoted as Z ~ N(0, 1).\n",
        "\n",
        "It is important for several reasons:\n",
        "\n",
        "1.  **Standardization:** Any normal distribution can be converted to the standard normal distribution using a process called standardization. This involves transforming a random variable X from a normal distribution with mean $\\mu$ and standard deviation $\\sigma$ into a Z-score using the formula:\n",
        "\n",
        "    $Z = (X - \\mu) / \\sigma$\n",
        "\n",
        "    This allows us to compare values from different normal distributions.\n",
        "\n",
        "2.  **Probability Calculation:** Probabilities for any normal distribution can be found using the standard normal distribution and Z-tables (or statistical software). These tables provide the cumulative probability up to a given Z-score.\n",
        "\n",
        "3.  **Statistical Inference:** The standard normal distribution is fundamental to many statistical inference techniques, such as hypothesis testing and confidence intervals.\n",
        "\n",
        "In essence, the standard normal distribution serves as a universal reference point for all normal distributions, simplifying calculations and comparisons."
      ]
    },
    {
      "cell_type": "markdown",
      "metadata": {
        "id": "766d27ea"
      },
      "source": [
        "**Question 6: What is the Central Limit Theorem (CLT), and why is it critical in statistics?**\n",
        "\n",
        "The **Central Limit Theorem (CLT)** is a fundamental theorem in probability and statistics. It states that, under certain conditions, the sampling distribution of the mean of a sufficiently large number of independent, identically distributed random variables will be approximately normally distributed, regardless of the original distribution of the variables.\n",
        "\n",
        "In simpler terms, even if the original data doesn't follow a normal distribution, the distribution of the sample means will tend towards a normal distribution as the sample size increases.\n",
        "\n",
        "The CLT is critical in statistics for several reasons:\n",
        "\n",
        "1.  **Foundation for Inferential Statistics:** Many statistical tests and confidence intervals rely on the assumption that the sampling distribution of the mean is normal. The CLT allows us to make this assumption, even when we don't know the original population distribution, as long as the sample size is large enough.\n",
        "2.  **Approximation of Probabilities:** It allows us to use the properties of the normal distribution to approximate probabilities related to sample means.\n",
        "3.  **Understanding Sampling Variability:** The CLT helps us understand how sample means vary around the true population mean.\n",
        "\n",
        "Essentially, the CLT is a cornerstone of statistical inference, enabling us to draw conclusions about a population based on a sample."
      ]
    },
    {
      "cell_type": "markdown",
      "metadata": {
        "id": "418cd942"
      },
      "source": [
        "**Question 7: What is the significance of confidence intervals in statistical analysis?**\n",
        "\n",
        "In statistical analysis, a **confidence interval** is a range of values that is likely to contain the true value of a population parameter with a certain level of confidence. It provides a measure of the uncertainty or precision of a sample estimate.\n",
        "\n",
        "The significance of confidence intervals lies in their ability to:\n",
        "\n",
        "1.  **Quantify Uncertainty:** They provide a range, rather than a single point estimate, acknowledging that a sample estimate is unlikely to be exactly equal to the true population parameter. The width of the interval indicates how much uncertainty there is in the estimate.\n",
        "2.  **Aid in Decision Making:** Confidence intervals help in making informed decisions based on sample data. If a confidence interval for a parameter excludes a certain value, it suggests that the true parameter is unlikely to be that value.\n",
        "3.  **Compare Groups or Treatments:** By comparing confidence intervals for different groups or treatments, we can assess whether there is a statistically significant difference between them. If the intervals do not overlap, it suggests a significant difference.\n",
        "4.  **Support Generalization:** Confidence intervals allow us to generalize findings from a sample to the larger population with a specified level of confidence.\n",
        "\n",
        "Commonly used confidence levels are 90%, 95%, and 99%. A 95% confidence interval, for example, means that if we were to take many random samples and calculate a confidence interval for each, approximately 95% of these intervals would contain the true population parameter."
      ]
    },
    {
      "cell_type": "markdown",
      "metadata": {
        "id": "74598bff"
      },
      "source": [
        "**Question 8: What is the concept of expected value in a probability distribution?**\n",
        "\n",
        "The **expected value** (or expectation) of a random variable is a fundamental concept in probability and statistics. It represents the average value of the variable over many trials or repetitions of the random phenomenon. It's essentially a weighted average of all possible values the random variable can take, where the weights are the probabilities of those values occurring.\n",
        "\n",
        "For a **discrete random variable** X with possible values $x_1, x_2, ..., x_n$ and corresponding probabilities $P(X=x_1), P(X=x_2), ..., P(X=x_n)$, the expected value E(X) is calculated as:\n",
        "\n",
        "$E(X) = \\sum_{i=1}^{n} x_i * P(X=x_i)$\n",
        "\n",
        "For a **continuous random variable** X with a probability density function (PDF) f(x), the expected value E(X) is calculated using integration:\n",
        "\n",
        "$E(X) = \\int_{-\\infty}^{\\infty} x * f(x) dx$\n",
        "\n",
        "The expected value is a measure of the central tendency of a probability distribution. It's not necessarily a value that the random variable will actually take, but rather a long-term average. It's widely used in various fields, including finance, gambling, and decision-making under uncertainty."
      ]
    },
    {
      "cell_type": "code",
      "metadata": {
        "colab": {
          "base_uri": "https://localhost:8080/",
          "height": 507
        },
        "id": "1ce9fd01",
        "outputId": "42be4aca-9cf7-4d43-e9ae-ddd8d4ab0dbf"
      },
      "source": [
        "# Question 9: Write a Python program to generate 1000 random numbers from a normal distribution with mean = 50 and standard deviation = 5. Compute its mean and standard deviation using NumPy, and draw a histogram to visualize the distribution.\n",
        "import numpy as np\n",
        "import matplotlib.pyplot as plt\n",
        "\n",
        "mean = 50\n",
        "std_dev = 5\n",
        "random_numbers = np.random.normal(mean, std_dev, 1000)\n",
        "\n",
        "computed_mean = np.mean(random_numbers)\n",
        "computed_std_dev = np.std(random_numbers)\n",
        "\n",
        "print(f\"Computed Mean: {computed_mean}\")\n",
        "print(f\"Computed Standard Deviation: {computed_std_dev}\")\n",
        "\n",
        "plt.hist(random_numbers, bins=30, density=True, alpha=0.6, color='g')\n",
        "plt.title('Histogram of Random Numbers from Normal Distribution')\n",
        "plt.xlabel('Value')\n",
        "plt.ylabel('Frequency')\n",
        "plt.show()"
      ],
      "execution_count": 1,
      "outputs": [
        {
          "output_type": "stream",
          "name": "stdout",
          "text": [
            "Computed Mean: 50.16124988182587\n",
            "Computed Standard Deviation: 5.011783054615941\n"
          ]
        },
        {
          "output_type": "display_data",
          "data": {
            "text/plain": [
              "<Figure size 640x480 with 1 Axes>"
            ],
            "image/png": "[encoded data removed]"
          },
          "metadata": {}
        }
      ]
    },
    {
      "cell_type": "markdown",
      "source": [
        "**Question 10: You are working as a data analyst for a retail company. The company has\n",
        "collected daily sales data for 2 years and wants you to identify the overall sales trend.\n",
        "daily_sales = [220, 245, 210, 265, 230, 250, 260, 275, 240, 255,\n",
        " 235, 260, 245, 250, 225, 270, 265, 255, 250, 260]\n",
        "● Explain how you would apply the Central Limit Theorem to estimate the average sales\n",
        "with a 95% confidence interval.\n",
        "● Write the Python code to compute the mean sales and its confidence interval.**"
      ],
      "metadata": {
        "id": "_CgpvV6MvQVv"
      }
    },
    {
      "cell_type": "markdown",
      "source": [
        "**Answer 10:**"
      ],
      "metadata": {
        "id": "sTMcCL-gvYv2"
      }
    },
    {
      "cell_type": "markdown",
      "source": [
        "Step 1: Applying the Central Limit Theorem (CLT)\n",
        "\n",
        "The Central Limit Theorem states that when we take a large number of random samples from any population, the distribution of the sample means will approach a normal distribution, regardless of the population distribution — provided the sample size is sufficiently large.\n",
        "\n",
        "In this case:\n",
        "\n",
        "We have a dataset of daily sales.\n",
        "\n",
        "The sample mean is an estimator of the population mean.\n",
        "\n",
        "The standard error is used to calculate the confidence interval around the mean.\n",
        "\n",
        "For a 95% confidence interval, we use a z-score of 1.96 (from the standard normal distribution)."
      ],
      "metadata": {
        "id": "23y5rWNtvdZe"
      }
    },
    {
      "cell_type": "markdown",
      "metadata": {
        "id": "30fbea4f"
      },
      "source": [
        "Step 2: Formula for Confidence Interval\n",
        "\n",
        "The formula for a confidence interval for the population mean ($\\mu$) when the sample size is large or the population standard deviation is known is:\n",
        "\n",
        "Confidence Interval = $\\bar{x} \\pm Z * (\\sigma / \\sqrt{n})$\n",
        "\n",
        "Where:\n",
        "\n",
        "*   $\\bar{x}$ is the sample mean.\n",
        "*   Z is the z-score corresponding to the desired confidence level (e.g., 1.96 for a 95% confidence interval).\n",
        "*   $\\sigma$ is the population standard deviation.\n",
        "*   n is the sample size.\n",
        "\n",
        "When the population standard deviation is unknown and the sample size is small (typically n < 30), the t-distribution is used instead of the z-distribution, and the formula becomes:\n",
        "\n",
        "Confidence Interval = $\\bar{x} \\pm t * (s / \\sqrt{n})$\n",
        "\n",
        "Where:\n",
        "\n",
        "*   t is the t-score corresponding to the desired confidence level and degrees of freedom (n-1).\n",
        "*   s is the sample standard deviation.\n",
        "\n",
        "In this case, since we have a sample size of 20 (which is generally considered small), we will use the t-distribution."
      ]
    },
    {
      "cell_type": "code",
      "source": [
        "import numpy as np\n",
        "import scipy.stats as stats\n",
        "\n",
        "daily_sales = [220, 245, 210, 265, 230, 250, 260, 275, 240, 255,\n",
        "               235, 260, 245, 250, 225, 270, 265, 255, 250, 260]\n",
        "\n",
        "data = np.array(daily_sales)\n",
        "\n",
        "mean_sales = np.mean(data)\n",
        "std_sales = np.std(data, ddof=1)\n",
        "n = len(data)\n",
        "\n",
        "z = 1.96\n",
        "\n",
        "se = std_sales / np.sqrt(n)\n",
        "\n",
        "lower_bound = mean_sales - z * se\n",
        "upper_bound = mean_sales + z * se\n",
        "\n",
        "print(f\"Mean daily sales: {mean_sales:.2f}\")\n",
        "print(f\"95% Confidence Interval: ({lower_bound:.2f}, {upper_bound:.2f})\")"
      ],
      "metadata": {
        "colab": {
          "base_uri": "https://localhost:8080/"
        },
        "id": "gsLF3aB-wGpm",
        "outputId": "f533c9ed-ec4f-4152-8d5d-a9b85b8daf2f"
      },
      "execution_count": 4,
      "outputs": [
        {
          "output_type": "stream",
          "name": "stdout",
          "text": [
            "Mean daily sales: 248.25\n",
            "95% Confidence Interval: (240.68, 255.82)\n"
          ]
        }
      ]
    },
    {
      "cell_type": "markdown",
      "source": [
        "Step 4: Interpretation\n",
        "\n",
        "The mean_sales gives the average daily sales.\n",
        "\n",
        "The 95% confidence interval tells us that we can be 95% confident the true population mean falls within this range.\n",
        "\n",
        "If we were to repeat this sampling process many times, about 95% of the intervals computed would contain the true mean."
      ],
      "metadata": {
        "id": "tkiAI2UYwRle"
      }
    }
  ]
}