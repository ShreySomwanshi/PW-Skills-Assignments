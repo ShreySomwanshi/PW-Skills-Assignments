{
  "nbformat": 4,
  "nbformat_minor": 0,
  "metadata": {
    "colab": {
      "provenance": []
    },
    "kernelspec": {
      "name": "python3",
      "display_name": "Python 3"
    },
    "language_info": {
      "name": "python"
    }
  },
  "cells": [
    {
      "cell_type": "markdown",
      "source": [
        "1. What are data structures, and why are they important?\n",
        "Answer- Data structures are ways to organize and store data efficiently for access and modification. They are crucial for efficient programming by managing data effectively.\n",
        "2. Explain the difference between mutable and immutable data types with examples.\n",
        "Answer- Mutable types (like lists []) can be changed after creation. Immutable types (like strings \"hello\") cannot be changed after creation; operations create new objects.\n",
        "3. What are the main differences between lists and tuples in Python? Answer- Lists are mutable ([]), while tuples are immutable (()). Lists are for changeable collections, tuples for fixed ones.\n",
        "4. Describe how dictionaries store data.\n",
        "Answer- Dictionaries store data as unique key-value pairs, allowing fast retrieval by key using hash tables.\n",
        "5. Why might you use a set instead of a list in Python?\n",
        "Answer- Use sets for collections of unique elements or for efficient set operations (union, intersection) and membership testing.\n",
        "6. What is a string in Python, and how is it different from a list?\n",
        "Answer- A string is an immutable sequence of characters. A list is a mutable sequence of elements of any type.\n",
        "7. How do tuples ensure data integrity in Python?\n",
        "Answer- Tuples ensure data integrity because their immutability prevents accidental changes to their elements once created.\n",
        "8. What is a hash table, and how does it relate to dictionaries in Python?\n",
        "Answer- A hash table is a data structure that maps keys to values using a hash function for fast lookups. Python dictionaries are implemented using hash tables.\n",
        "9. Can lists contain different data types in Python?\n",
        "Answer- Yes, lists can contain elements of different data types.\n",
        "10. Explain why strings are immutable in Python.\n",
        "Answer- Strings are immutable to make them hashable (usable as dictionary keys/set elements) and simplify memory management and predictability.\n",
        "11. What advantages do dictionaries offer over lists for certain tasks?\n",
        "Answer- Dictionaries offer faster access to values based on a key (average O(1)) compared to searching by value in a list (O(n)).\n",
        "12. Describe a scenario where using a tuple would be preferable over a list.\n",
        "Answer- Use a tuple for fixed collections of related data that shouldn't change, like geographical coordinates or RGB color values.\n",
        "13. How do sets handle duplicate values in Python?\n",
        "Answer- Sets automatically remove duplicate values, storing only unique elements.\n",
        "14. How does the “in” keyword work differently for lists and dictionaries?\n",
        "Answer- For lists, in checks if a value exists (linear search). For dictionaries, in checks if a key exists (fast hash-based lookup).\n",
        "15. Can you modify the elements of a tuple? Explain why or why not. Answer- No, you cannot modify tuple elements because tuples are immutable.\n",
        "16. What is a nested dictionary, and give an example of its use case. Answer- A nested dictionary is a dictionary where values are other dictionaries. Use cases include representing hierarchical data like a structure of users with their details: {'user1': {'name': 'Alice'}}.\n",
        "17. Describe the time complexity of accessing elements in a dictionary.\n",
        "Answer- Average time complexity for access is O(1) due to hash tables.\n",
        "18. In what situations are lists preferred over dictionaries?\n",
        "Answer- Lists are preferred when element order is important, accessing by index is needed, or when storing duplicate values.\n",
        "19. Why are dictionaries considered unordered, and how does that affect data retrieval?\n",
        "Answer- Before Python 3.7, they were unordered based on hashing. From 3.7, they are insertion-ordered, but key-based retrieval remains fast regardless of order.\n",
        "20. Explain the difference between a list and a dictionary in terms of data retrieval.  \n",
        "Answer- Lists retrieve by index (position), potentially slow for searching values (O(n)). Dictionaries retrieve by key, very fast (average O(1))."
      ],
      "metadata": {
        "id": "aKhQCKR90o9D"
      }
    },
    {
      "cell_type": "code",
      "execution_count": 17,
      "metadata": {
        "id": "itKliTuo0dk4",
        "colab": {
          "base_uri": "https://localhost:8080/"
        },
        "outputId": "9c6c6fc7-7784-4b67-c7c5-afaf7629ab8e"
      },
      "outputs": [
        {
          "output_type": "stream",
          "name": "stdout",
          "text": [
            "Shrey\n"
          ]
        }
      ],
      "source": [
        "#1 Write a code to create a string with your name and print it.\n",
        "my_name = \"Shrey\"\n",
        "print(my_name)"
      ]
    },
    {
      "cell_type": "code",
      "source": [
        "#2 Write a code to find the length of the string \"Hello World\".\n",
        "my_string = \"Hello World\"\n",
        "string_length = len(my_string)\n",
        "print(string_length)"
      ],
      "metadata": {
        "id": "zcabiiqsRsdW",
        "colab": {
          "base_uri": "https://localhost:8080/"
        },
        "outputId": "c1bf5098-ea85-4517-88ac-50986364b44b"
      },
      "execution_count": 18,
      "outputs": [
        {
          "output_type": "stream",
          "name": "stdout",
          "text": [
            "11\n"
          ]
        }
      ]
    },
    {
      "cell_type": "code",
      "source": [
        "#3 Write a code to slice the first 3 characters from the string \"Python Programming\".\n",
        "my_string = \"Python Programming\"\n",
        "sliced_string = my_string[:3]\n",
        "print(sliced_string)"
      ],
      "metadata": {
        "id": "NYkGHoDjRuep",
        "colab": {
          "base_uri": "https://localhost:8080/"
        },
        "outputId": "552146c3-72e4-4cd4-a1b8-a4469d89c7c4"
      },
      "execution_count": 19,
      "outputs": [
        {
          "output_type": "stream",
          "name": "stdout",
          "text": [
            "Pyt\n"
          ]
        }
      ]
    },
    {
      "cell_type": "code",
      "source": [
        "#4 Write a code to convert the string \"hello\" to uppercase.\n",
        "my_string = \"hello\"\n",
        "uppercase_string = my_string.upper()\n",
        "print(uppercase_string)"
      ],
      "metadata": {
        "id": "v0IQwtFQRwIn",
        "colab": {
          "base_uri": "https://localhost:8080/"
        },
        "outputId": "ae204998-8101-4a53-c5d0-565b4059f88e"
      },
      "execution_count": 20,
      "outputs": [
        {
          "output_type": "stream",
          "name": "stdout",
          "text": [
            "HELLO\n"
          ]
        }
      ]
    },
    {
      "cell_type": "code",
      "source": [
        "#5 Write a code to replace the word \"apple\" with \"orange\" in the string \"I like apple\".\n",
        "my_string = \"I like apple\"\n",
        "new_string = my_string.replace(\"apple\", \"orange\")\n",
        "print(new_string)"
      ],
      "metadata": {
        "id": "Dl1CsgurRzHn",
        "colab": {
          "base_uri": "https://localhost:8080/"
        },
        "outputId": "18e6be54-946e-45e5-9a08-e3f236a6457f"
      },
      "execution_count": 21,
      "outputs": [
        {
          "output_type": "stream",
          "name": "stdout",
          "text": [
            "I like orange\n"
          ]
        }
      ]
    },
    {
      "cell_type": "code",
      "source": [
        "#6 Write a code to create a list with numbers 1 to 5 and print it.\n",
        "my_list = [1, 2, 3, 4, 5]\n",
        "print(my_list)"
      ],
      "metadata": {
        "id": "HRHd9Kq8RzqP",
        "colab": {
          "base_uri": "https://localhost:8080/"
        },
        "outputId": "1b79209d-6f04-4f9b-dbe1-57c20044fe3a"
      },
      "execution_count": 22,
      "outputs": [
        {
          "output_type": "stream",
          "name": "stdout",
          "text": [
            "[1, 2, 3, 4, 5]\n"
          ]
        }
      ]
    },
    {
      "cell_type": "code",
      "source": [
        "#7 Write a code to append the number 10 to the list [1, 2, 3, 4].\n",
        "my_list = [1, 2, 3, 4]\n",
        "my_list.append(10)\n",
        "print(my_list)"
      ],
      "metadata": {
        "id": "yuO3M1VgR0CO",
        "colab": {
          "base_uri": "https://localhost:8080/"
        },
        "outputId": "df24af79-37a4-4735-c16d-b379e142976b"
      },
      "execution_count": 23,
      "outputs": [
        {
          "output_type": "stream",
          "name": "stdout",
          "text": [
            "[1, 2, 3, 4, 10]\n"
          ]
        }
      ]
    },
    {
      "cell_type": "code",
      "source": [
        "#8 Write a code to remove the number 3 from the list [1, 2, 3, 4, 5].\n",
        "my_list = [1, 2, 3, 4, 5]\n",
        "my_list.remove(3)\n",
        "print(my_list)"
      ],
      "metadata": {
        "id": "_2mZtjcZR0UW",
        "colab": {
          "base_uri": "https://localhost:8080/"
        },
        "outputId": "862edff0-2339-4860-d05f-e7d974362052"
      },
      "execution_count": 26,
      "outputs": [
        {
          "output_type": "stream",
          "name": "stdout",
          "text": [
            "[1, 2, 4, 5]\n"
          ]
        }
      ]
    },
    {
      "cell_type": "code",
      "source": [
        "#9 Write a code to access the second element in the list ['a', 'b', 'c', 'd'].\n",
        "my_list = ['a', 'b', 'c', 'd']\n",
        "second_element = my_list[1]\n",
        "print(second_element)"
      ],
      "metadata": {
        "id": "ZLaF9qgKR0hu",
        "colab": {
          "base_uri": "https://localhost:8080/"
        },
        "outputId": "c5674d00-82b9-467b-8375-70209a3e4910"
      },
      "execution_count": 27,
      "outputs": [
        {
          "output_type": "stream",
          "name": "stdout",
          "text": [
            "b\n"
          ]
        }
      ]
    },
    {
      "cell_type": "code",
      "source": [
        "#10 Write a code to reverse the list [10, 20, 30, 40, 50].\n",
        "my_list = [10, 20, 30, 40, 50]\n",
        "my_list.reverse()\n",
        "print(my_list)"
      ],
      "metadata": {
        "id": "ysYzIPmHR06K",
        "colab": {
          "base_uri": "https://localhost:8080/"
        },
        "outputId": "e2788831-e3a0-4faa-bb24-58c6475f59c5"
      },
      "execution_count": 28,
      "outputs": [
        {
          "output_type": "stream",
          "name": "stdout",
          "text": [
            "[50, 40, 30, 20, 10]\n"
          ]
        }
      ]
    },
    {
      "cell_type": "code",
      "source": [
        "#11 Write a code to create a tuple with the elements 100, 200, 300 and print it.\n",
        "my_tuple = (100, 200, 300)\n",
        "print(my_tuple)"
      ],
      "metadata": {
        "id": "mrrc7iF9R1PI",
        "colab": {
          "base_uri": "https://localhost:8080/"
        },
        "outputId": "8e8eb06f-fc8f-4fbe-a3d0-cc130ace1f3e"
      },
      "execution_count": 29,
      "outputs": [
        {
          "output_type": "stream",
          "name": "stdout",
          "text": [
            "(100, 200, 300)\n"
          ]
        }
      ]
    },
    {
      "cell_type": "code",
      "source": [
        "#12 Write a code to access the second-to-last element of the tuple ('red', 'green', 'blue', 'yellow').\n",
        "my_tuple = ('red', 'green', 'blue', 'yellow')\n",
        "second_to_last_element = my_tuple[-2]\n",
        "print(second_to_last_element)"
      ],
      "metadata": {
        "id": "Nhi_xGhGR1h4",
        "colab": {
          "base_uri": "https://localhost:8080/"
        },
        "outputId": "4197fbe4-bc65-44c7-ec2d-9462bf80eca6"
      },
      "execution_count": 30,
      "outputs": [
        {
          "output_type": "stream",
          "name": "stdout",
          "text": [
            "blue\n"
          ]
        }
      ]
    },
    {
      "cell_type": "code",
      "source": [
        "#13 Write a code to find the minimum number in the tuple (10, 20, 5, 15).\n",
        "my_tuple = (10, 20, 5, 15)\n",
        "min_number = min(my_tuple)\n",
        "print(min_number)"
      ],
      "metadata": {
        "id": "FBXtSuORR6P-",
        "colab": {
          "base_uri": "https://localhost:8080/"
        },
        "outputId": "1713bfda-2a54-4d52-cad6-882decc379c2"
      },
      "execution_count": 31,
      "outputs": [
        {
          "output_type": "stream",
          "name": "stdout",
          "text": [
            "5\n"
          ]
        }
      ]
    },
    {
      "cell_type": "code",
      "source": [
        "#14 Write a code to find the index of the element \"cat\" in the tuple ('dog', 'cat', 'rabbit').\n",
        "my_tuple = ('dog', 'cat', 'rabbit')\n",
        "index_of_cat = my_tuple.index(\"cat\")\n",
        "print(index_of_cat)"
      ],
      "metadata": {
        "id": "ZyoRMvZHR6Jl",
        "colab": {
          "base_uri": "https://localhost:8080/"
        },
        "outputId": "21330d98-b0b0-4c6f-a9b7-ebf0c6b5aca4"
      },
      "execution_count": 32,
      "outputs": [
        {
          "output_type": "stream",
          "name": "stdout",
          "text": [
            "1\n"
          ]
        }
      ]
    },
    {
      "cell_type": "code",
      "source": [
        "#15 Write a code to create a tuple containing three different fruits and check if \"kiwi\" is in it.\n",
        "my_tuple = ('apple', 'banana', 'orange')\n",
        "is_kiwi_in_tuple = \"kiwi\" in my_tuple\n",
        "print(is_kiwi_in_tuple)"
      ],
      "metadata": {
        "id": "K9WFnVnKR6DY",
        "colab": {
          "base_uri": "https://localhost:8080/"
        },
        "outputId": "dd2ec04e-7d20-48ed-ffc9-f10e220f6c3e"
      },
      "execution_count": 16,
      "outputs": [
        {
          "output_type": "stream",
          "name": "stdout",
          "text": [
            "False\n"
          ]
        }
      ]
    },
    {
      "cell_type": "code",
      "source": [
        "#16 Write a code to create a set with the elements 'a', 'b', 'c' and print it.\n",
        "my_set = {'a', 'b', 'c'}\n",
        "print(my_set)"
      ],
      "metadata": {
        "id": "JhYiHCn1R57-",
        "colab": {
          "base_uri": "https://localhost:8080/"
        },
        "outputId": "ab31b315-a053-47ab-fd0f-916ce4d65bfd"
      },
      "execution_count": 15,
      "outputs": [
        {
          "output_type": "stream",
          "name": "stdout",
          "text": [
            "{'b', 'a', 'c'}\n"
          ]
        }
      ]
    },
    {
      "cell_type": "code",
      "source": [
        "#17 Write a code to clear all elements from the set {1, 2, 3, 4, 5}.\n",
        "my_set = {1, 2, 3, 4, 5}\n",
        "my_set.clear()\n",
        "print(my_set)"
      ],
      "metadata": {
        "id": "EhkQP5MiR5yZ",
        "colab": {
          "base_uri": "https://localhost:8080/"
        },
        "outputId": "882191d8-80aa-4311-f8d7-39dbfde840e4"
      },
      "execution_count": 14,
      "outputs": [
        {
          "output_type": "stream",
          "name": "stdout",
          "text": [
            "set()\n"
          ]
        }
      ]
    },
    {
      "cell_type": "code",
      "source": [
        "#18 Write a code to remove the element 4 from the set {1, 2, 3, 4}.\n",
        "my_set = {1, 2, 3, 4}\n",
        "my_set.remove(4)\n",
        "print(my_set)"
      ],
      "metadata": {
        "id": "RxVGeCVRR9Wb",
        "colab": {
          "base_uri": "https://localhost:8080/"
        },
        "outputId": "60fa05a2-ff70-41ea-c149-82a3205c2b25"
      },
      "execution_count": 13,
      "outputs": [
        {
          "output_type": "stream",
          "name": "stdout",
          "text": [
            "{1, 2, 3}\n"
          ]
        }
      ]
    },
    {
      "cell_type": "code",
      "source": [
        "#19 Write a code to find the union of two sets {1, 2, 3} and {3, 4, 5}.\n",
        "set1 = {1, 2, 3}\n",
        "set2 = {3, 4, 5}\n",
        "union_set = set1.union(set2)\n",
        "print(union_set)"
      ],
      "metadata": {
        "id": "BkDXyztrR9OO",
        "colab": {
          "base_uri": "https://localhost:8080/"
        },
        "outputId": "6f2822fe-f430-4eb7-d9c4-f8f4c3d07a98"
      },
      "execution_count": 12,
      "outputs": [
        {
          "output_type": "stream",
          "name": "stdout",
          "text": [
            "{1, 2, 3, 4, 5}\n"
          ]
        }
      ]
    },
    {
      "cell_type": "code",
      "source": [
        "#20 Write a code to find the intersection of two sets {1, 2, 3} and {2, 3, 4}.\n",
        "set1 = {1, 2, 3}\n",
        "set2 = {2, 3, 4}\n",
        "intersection_set = set1.intersection(set2)\n",
        "print(intersection_set)"
      ],
      "metadata": {
        "id": "UoOIbTn0R9E9",
        "colab": {
          "base_uri": "https://localhost:8080/"
        },
        "outputId": "10534232-7dd2-411d-ac28-b7767aec74bf"
      },
      "execution_count": 11,
      "outputs": [
        {
          "output_type": "stream",
          "name": "stdout",
          "text": [
            "{2, 3}\n"
          ]
        }
      ]
    },
    {
      "cell_type": "code",
      "source": [
        "#21 Write a code to create a dictionary with the keys \"name\", \"age\", and \"city\", and print it.\n",
        "my_dict = {\"name\": \"\", \"age\": None, \"city\": \"\"}\n",
        "print(my_dict)"
      ],
      "metadata": {
        "id": "2pZwfDphR86-",
        "colab": {
          "base_uri": "https://localhost:8080/"
        },
        "outputId": "24811110-1340-4960-ce2d-93082e0894da"
      },
      "execution_count": 10,
      "outputs": [
        {
          "output_type": "stream",
          "name": "stdout",
          "text": [
            "{'name': '', 'age': None, 'city': ''}\n"
          ]
        }
      ]
    },
    {
      "cell_type": "code",
      "source": [
        "#22 Write a code to add a new key-value pair \"country\": \"USA\" to the dictionary {'name': 'John', 'age': 25}.\n",
        "my_dict = {'name': 'John', 'age': 25}\n",
        "my_dict[\"country\"] = \"USA\"\n",
        "print(my_dict)"
      ],
      "metadata": {
        "id": "TLvTmYueR8rt",
        "colab": {
          "base_uri": "https://localhost:8080/"
        },
        "outputId": "afb0704a-9264-4d6a-8e41-16e0134e5e6d"
      },
      "execution_count": 9,
      "outputs": [
        {
          "output_type": "stream",
          "name": "stdout",
          "text": [
            "{'name': 'John', 'age': 25, 'country': 'USA'}\n"
          ]
        }
      ]
    },
    {
      "cell_type": "code",
      "source": [
        "#23 Write a code to access the value associated with the key \"name\" in the dictionary {'name': 'Alice', 'age': 30}.\n",
        "my_dict = {'name': 'Alice', 'age': 30}\n",
        "name_value = my_dict[\"name\"]\n",
        "print(name_value)"
      ],
      "metadata": {
        "id": "Pnuli0JsR_8_",
        "colab": {
          "base_uri": "https://localhost:8080/"
        },
        "outputId": "ef2c105d-0d24-4d74-886e-bd784a5668f5"
      },
      "execution_count": 8,
      "outputs": [
        {
          "output_type": "stream",
          "name": "stdout",
          "text": [
            "Alice\n"
          ]
        }
      ]
    },
    {
      "cell_type": "code",
      "source": [
        "#24 Write a code to remove the key \"age\" from the dictionary {'name': 'Bob', 'age': 22, 'city': 'New York'}.\n",
        "my_dict = {'name': 'Bob', 'age': 22, 'city': 'New York'}\n",
        "del my_dict[\"age\"]\n",
        "print(my_dict)"
      ],
      "metadata": {
        "id": "RKEcbuowR_2e",
        "colab": {
          "base_uri": "https://localhost:8080/"
        },
        "outputId": "d3f3d28e-ec75-488e-91f8-0f1377c67c76"
      },
      "execution_count": 7,
      "outputs": [
        {
          "output_type": "stream",
          "name": "stdout",
          "text": [
            "{'name': 'Bob', 'city': 'New York'}\n"
          ]
        }
      ]
    },
    {
      "cell_type": "code",
      "source": [
        "#25 Write a code to check if the key \"city\" exists in the dictionary {'name': 'Alice', 'city': 'Paris'}.\n",
        "my_dict = {'name': 'Alice', 'city': 'Paris'}\n",
        "if \"city\" in my_dict:\n",
        "    print(\"The key 'city' exists in the dictionary.\")\n",
        "else:\n",
        "    print(\"The key 'city' does not exist in the dictionary.\")"
      ],
      "metadata": {
        "id": "uNuTmow9R_vm",
        "colab": {
          "base_uri": "https://localhost:8080/"
        },
        "outputId": "6e667e4d-eb8d-4c8f-b461-6d9b57e0a5a6"
      },
      "execution_count": 6,
      "outputs": [
        {
          "output_type": "stream",
          "name": "stdout",
          "text": [
            "The key 'city' exists in the dictionary.\n"
          ]
        }
      ]
    },
    {
      "cell_type": "code",
      "source": [
        "#26 Write a code to create a list, a tuple, and a dictionary, and print them all.\n",
        "my_list = [1, 2, 3]\n",
        "my_tuple = (1, 2, 3)\n",
        "my_dict = {\"a\": 1, \"b\": 2, \"c\": 3}\n",
        "print(my_list)\n",
        "print(my_tuple)\n",
        "print(my_dict)"
      ],
      "metadata": {
        "id": "cTuGVKEtR_ku",
        "colab": {
          "base_uri": "https://localhost:8080/"
        },
        "outputId": "c36b936d-016f-4fd5-9ed5-c178115172de"
      },
      "execution_count": 5,
      "outputs": [
        {
          "output_type": "stream",
          "name": "stdout",
          "text": [
            "[1, 2, 3]\n",
            "(1, 2, 3)\n",
            "{'a': 1, 'b': 2, 'c': 3}\n"
          ]
        }
      ]
    },
    {
      "cell_type": "code",
      "source": [
        "#27 Write a code to create a list of 5 random numbers between 1 and 100, sort it in ascending order, and print the result.\n",
        "import random\n",
        "\n",
        "my_list = [random.randint(1, 100) for _ in range(5)]\n",
        "my_list.sort()\n",
        "print(my_list)"
      ],
      "metadata": {
        "id": "Kwy4nVGmR_Zg",
        "colab": {
          "base_uri": "https://localhost:8080/"
        },
        "outputId": "254a441c-7e0a-4312-b8e4-1943ccb04879"
      },
      "execution_count": 4,
      "outputs": [
        {
          "output_type": "stream",
          "name": "stdout",
          "text": [
            "[10, 48, 76, 85, 92]\n"
          ]
        }
      ]
    },
    {
      "cell_type": "code",
      "source": [
        "#28 Write a code to create a list with strings and print the element at the third index.\n",
        "my_list = [\"apple\", \"banana\", \"cherry\", \"date\", \"elderberry\"]\n",
        "third_element = my_list[3]\n",
        "print(third_element)"
      ],
      "metadata": {
        "id": "zGI2GDT2SEL-",
        "colab": {
          "base_uri": "https://localhost:8080/"
        },
        "outputId": "debabc4a-0927-44b9-aa56-20d3f2065448"
      },
      "execution_count": 3,
      "outputs": [
        {
          "output_type": "stream",
          "name": "stdout",
          "text": [
            "date\n"
          ]
        }
      ]
    },
    {
      "cell_type": "code",
      "source": [
        "#29 Write a code to combine two dictionaries into one and print the result.\n",
        "dict1 = {\"a\": 1, \"b\": 2}\n",
        "dict2 = {\"c\": 3, \"d\": 4}\n",
        "combined_dict = {**dict1, **dict2}\n",
        "print(combined_dict)"
      ],
      "metadata": {
        "id": "x2KuP1V_SEGF",
        "colab": {
          "base_uri": "https://localhost:8080/"
        },
        "outputId": "1e814d3d-f54f-486c-cb7e-5056f0c36a6b"
      },
      "execution_count": 2,
      "outputs": [
        {
          "output_type": "stream",
          "name": "stdout",
          "text": [
            "{'a': 1, 'b': 2, 'c': 3, 'd': 4}\n"
          ]
        }
      ]
    },
    {
      "cell_type": "code",
      "source": [
        "#30 Write a code to convert a list of strings into a set.\n",
        "my_list = [\"apple\", \"banana\", \"cherry\", \"apple\"]\n",
        "my_set = set(my_list)\n",
        "print(my_set)"
      ],
      "metadata": {
        "id": "tse4apn0SEBO",
        "colab": {
          "base_uri": "https://localhost:8080/"
        },
        "outputId": "a6618fac-afd9-4b4c-93af-1f97a30f5869"
      },
      "execution_count": 1,
      "outputs": [
        {
          "output_type": "stream",
          "name": "stdout",
          "text": [
            "{'banana', 'cherry', 'apple'}\n"
          ]
        }
      ]
    }
  ]
}